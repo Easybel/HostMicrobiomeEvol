{
 "cells": [
  {
   "cell_type": "code",
   "execution_count": 5,
   "id": "43a3d4d1-b855-4e55-ab95-c422c3df3a0b",
   "metadata": {},
   "outputs": [],
   "source": [
    "import numpy as np\n"
   ]
  },
  {
   "cell_type": "code",
   "execution_count": 6,
   "id": "d758e386-d8b8-4699-9036-02ec87a086fb",
   "metadata": {},
   "outputs": [
    {
     "name": "stdout",
     "output_type": "stream",
     "text": [
      "[     1 131567      2 ...  36542  77644   2486]\n"
     ]
    },
    {
     "data": {
      "text/plain": [
       "47471"
      ]
     },
     "execution_count": 6,
     "metadata": {},
     "output_type": "execute_result"
    }
   ],
   "source": [
    "path=\"/home/isabel/Documents/postDoc_Amsterdam/1_EvolWormJourney/1_Genomics/2_EvolGenomics/2_Metagenomics/1_taxonomy/Kraken/kraken2_inspect/\"\n",
    "\n",
    "kraken_std_c5 = np.loadtxt(path+\"Inspect_output_KrakenStandard_Col5.txt\", dtype=int)\n",
    "kraken_plus_c5 = np.loadtxt(path+\"inspect_IR_plusPf_Col5.txt\", dtype=int)\n",
    "print(kraken_std_c5)\n",
    "len(kraken_std_c5)"
   ]
  },
  {
   "cell_type": "code",
   "execution_count": 7,
   "id": "9eefa16d-9e9a-4050-8095-7158667b706c",
   "metadata": {},
   "outputs": [
    {
     "data": {
      "text/plain": [
       "set"
      ]
     },
     "execution_count": 7,
     "metadata": {},
     "output_type": "execute_result"
    }
   ],
   "source": [
    "krstdc5 = set(kraken_std_c5)\n",
    "krplusc5 = set(kraken_plus_c5)\n",
    "#print(krstd)\n",
    "type(krplusc5)"
   ]
  },
  {
   "cell_type": "code",
   "execution_count": 9,
   "id": "fd03a96d-c577-4e6a-a877-615c59e1d05c",
   "metadata": {},
   "outputs": [
    {
     "name": "stdout",
     "output_type": "stream",
     "text": [
      "949\n",
      "731\n",
      "Yeah\n"
     ]
    }
   ],
   "source": [
    "## what is unique in each set? what is the unison?\n",
    "onlyPlus_set = krplusc5.difference(krstdc5)\n",
    "onlyStd_set = krstdc5.difference(krplusc5)\n",
    "print(len(onlyStd_set))\n",
    "print(len(onlyPlus_set))\n",
    "\n",
    "onlyPlus_set\n",
    "if 2849 in onlyPlus_set:\n",
    "    print('Yeah')\n"
   ]
  },
  {
   "cell_type": "code",
   "execution_count": 14,
   "id": "669437dc-e9b9-4e1f-b9e1-85c7fcd7bec2",
   "metadata": {},
   "outputs": [],
   "source": [
    "## now find the index in the original list!\n",
    "#### first for the standard list\n",
    "idx_krstd =  []\n",
    "for i in range(len(kraken_std_c5)):\n",
    "    if kraken_std_c5[i] in onlyStd_set:\n",
    "        idx_krstd.append(i)\n",
    "\n",
    "#### then the fungi plus list\n",
    "idx_krplus =  []\n",
    "for i in range(len(kraken_plus_c5)):\n",
    "    if kraken_plus_c5[i] in onlyPlus_set:\n",
    "        idx_krplus.append(i)\n",
    "\n",
    "#print(idx_krstd)\n",
    "#print(idx_krplus)"
   ]
  },
  {
   "cell_type": "code",
   "execution_count": 19,
   "id": "a4f3ce82-d596-47e1-b168-8e9566936fa5",
   "metadata": {},
   "outputs": [],
   "source": [
    "## now read in the whole inspect file and extract the taxons that are only in the one or ther other:\n",
    "kraken_std = np.loadtxt(path+\"Inspect_output_KrakenStandard.txt\", delimiter='\\t', dtype=str)\n",
    "kraken_plus = np.loadtxt(path+\"inspect_IR_plusPf.txt\", delimiter='\\t', dtype=str)"
   ]
  },
  {
   "cell_type": "code",
   "execution_count": 57,
   "id": "cb077136-5456-4eb8-9ec3-622731624ea0",
   "metadata": {},
   "outputs": [],
   "source": [
    "kraken_std_uniq = kraken_std[idx_krstd]\n",
    "kraken_plus_uniq = kraken_plus[idx_krplus]\n"
   ]
  },
  {
   "cell_type": "code",
   "execution_count": 58,
   "id": "04e140a3-59e4-4687-b92f-b804d550827d",
   "metadata": {},
   "outputs": [],
   "source": [
    "with open(path + 'Unique_2_KrakenStd.txt', 'w') as out:\n",
    "    for i in range(len(kraken_std_uniq)):\n",
    "        out.write(str(kraken_std_uniq[i]) + '\\n')\n",
    "\n",
    "with open(path + 'Unique_2_KrakenPlus.txt', 'w') as out:\n",
    "    for i in range(len(kraken_plus_uniq)):\n",
    "        out.write(str(kraken_plus_uniq[i]) + '\\n')\n"
   ]
  },
  {
   "cell_type": "code",
   "execution_count": 56,
   "id": "4f986969-ef20-478f-885a-a5fcc4b63e1a",
   "metadata": {},
   "outputs": [],
   "source": []
  },
  {
   "cell_type": "code",
   "execution_count": 51,
   "id": "6e7e326c-b948-4bca-83c9-9d8b052d2a07",
   "metadata": {},
   "outputs": [
    {
     "data": {
      "text/plain": [
       "array(['0.01', '706483', '706483', 'S', '3104265', 'Pseudomonassp.B33.4'],\n",
       "      dtype='<U82')"
      ]
     },
     "execution_count": 51,
     "metadata": {},
     "output_type": "execute_result"
    }
   ],
   "source": [
    "kraken_std_uniq[2]"
   ]
  },
  {
   "cell_type": "code",
   "execution_count": null,
   "id": "de70b6b9-3fd3-4baa-94ca-df8bafbbaf46",
   "metadata": {},
   "outputs": [],
   "source": []
  }
 ],
 "metadata": {
  "kernelspec": {
   "display_name": "Python 3 (ipykernel)",
   "language": "python",
   "name": "python3"
  },
  "language_info": {
   "codemirror_mode": {
    "name": "ipython",
    "version": 3
   },
   "file_extension": ".py",
   "mimetype": "text/x-python",
   "name": "python",
   "nbconvert_exporter": "python",
   "pygments_lexer": "ipython3",
   "version": "3.10.12"
  }
 },
 "nbformat": 4,
 "nbformat_minor": 5
}
