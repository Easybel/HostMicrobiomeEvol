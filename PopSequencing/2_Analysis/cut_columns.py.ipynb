{
 "cells": [
  {
   "cell_type": "code",
   "execution_count": 9,
   "id": "abccd48b",
   "metadata": {},
   "outputs": [],
   "source": [
    "import numpy as np\n",
    "import csv"
   ]
  },
  {
   "cell_type": "code",
   "execution_count": 2,
   "id": "2e44607b",
   "metadata": {},
   "outputs": [],
   "source": [
    "def cut_columns():\n",
    "  print(\"Hello from a function\") "
   ]
  },
  {
   "cell_type": "code",
   "execution_count": 6,
   "id": "b4acfdac",
   "metadata": {},
   "outputs": [
    {
     "name": "stdout",
     "output_type": "stream",
     "text": [
      "['3', '5', '7', '0']\n"
     ]
    }
   ],
   "source": [
    "fileName = \"/home/isabel/Documents/postDoc_Amsterdam/B_BioInfo/1_MyScripts/python/PipelineCelegans/demofile2.txt\"\n",
    "columns = [2,3]\n",
    "\n",
    "f=open(fileName,\"r\")\n",
    "lines=f.readlines()\n",
    "result=[]\n",
    "for x in lines:\n",
    "    result.append(x.split(' ')[columns[0]])\n",
    "f.close()\n",
    "\n",
    "print (result)\n",
    "#f = open(\"demofile2.txt\", \"a\")\n",
    "#f.write(fileName)\n",
    "#f.close()\n"
   ]
  },
  {
   "cell_type": "code",
   "execution_count": 10,
   "id": "7e6417e2",
   "metadata": {},
   "outputs": [],
   "source": [
    "a = [np.array([1,2]),np.array([10,20]),np.array([40,50])]\n",
    "b = np.stack(a)\n",
    "\n"
   ]
  },
  {
   "cell_type": "code",
   "execution_count": 11,
   "id": "8320508f",
   "metadata": {},
   "outputs": [],
   "source": [
    "with open('/home/isabel/Documents/postDoc_Amsterdam/B_BioInfo/1_MyScripts/python/PipelineCelegans/demofileOUT.txt', 'w') as f:\n",
    "    csv.writer(f, delimiter=' ').writerows(b)"
   ]
  },
  {
   "cell_type": "code",
   "execution_count": null,
   "id": "4b9d408f",
   "metadata": {},
   "outputs": [],
   "source": []
  }
 ],
 "metadata": {
  "kernelspec": {
   "display_name": "Python 3 (ipykernel)",
   "language": "python",
   "name": "python3"
  },
  "language_info": {
   "codemirror_mode": {
    "name": "ipython",
    "version": 3
   },
   "file_extension": ".py",
   "mimetype": "text/x-python",
   "name": "python",
   "nbconvert_exporter": "python",
   "pygments_lexer": "ipython3",
   "version": "3.10.12"
  }
 },
 "nbformat": 4,
 "nbformat_minor": 5
}
