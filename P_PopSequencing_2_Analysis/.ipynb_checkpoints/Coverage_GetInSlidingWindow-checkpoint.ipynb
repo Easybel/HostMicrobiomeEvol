{
 "cells": [
  {
   "cell_type": "code",
   "execution_count": 5,
   "id": "3fd4d2f3",
   "metadata": {},
   "outputs": [],
   "source": [
    "import numpy as np\n",
    "import sys\n",
    "import csv\n",
    "import pandas as pd\n",
    "import matplotlib.pyplot as plt\n",
    "import seaborn as sns\n"
   ]
  },
  {
   "cell_type": "code",
   "execution_count": 6,
   "id": "10a73459-a767-46f3-a180-c9ea10f7ddfb",
   "metadata": {},
   "outputs": [],
   "source": [
    "## This script will run with coverage data for each chromosome separately.\n",
    "## The files should have the form: \n",
    "### FileName + chrX + .txt\n",
    "\n",
    "## call the script:\n",
    "\n",
    "##    Coverage_GetInSlidingWindow #InPath #InFilename(without the endling and without the chr..) #OutPath #windowSize"
   ]
  },
  {
   "cell_type": "code",
   "execution_count": 14,
   "id": "06072b81-3c86-45b5-be88-2573220b7d60",
   "metadata": {},
   "outputs": [],
   "source": [
    "## what are the variables:\n",
    "### -- inFile: is the path and filename of the file from which we want to cut the columns \n",
    "### -- windowSize: in what window should the coverage average be evaluated? (I am here not letting windows overlap,\n",
    "###    because that would defeat the cause of making the file size smaller)\n",
    "### -- out: path and name of the output sample\n",
    "\n",
    "\n",
    "#InPath = sys.argv[1]\n",
    "#InFilename = sys.argv[2]\n",
    "#outPath = sys.arg[3]\n",
    "#windowSize = sys.arg(4)\n",
    "\n",
    "InPath = \"/home/isabel/Documents/postDoc_Amsterdam/1_EvolWormJourney/1_Genomics/2_EvolGenomics/1_Dev_PipelineCelegans/Coverage/fromMapping/\"\n",
    "InFilename=\"Gent_bb_1_1_CE_mapped_compl_cov_\"\n",
    "outPah = \"/home/isabel/Documents/postDoc_Amsterdam/1_EvolWormJourney/1_Genomics/2_EvolGenomics/1_Dev_PipelineCelegans/Coverage/fromMapping/O_output\"\n",
    "windowSize = 10000\n",
    "suffix = \".txt\"\n",
    "\n",
    "chromosomes=[\"NC_003279.8\",\"NC_003280.10\",\"NC_003281.10\",\"NC_003282.8\",\"NC_003283.11\",\"NC_003284.9\",\"NC_001328.1\"]\n",
    "chromosomes_length = [15072434, 15279421, 13783801, 17493829, 20924180, 17718942, 13794]\n",
    "chromosomes_end = [15072434, 30351855, 44135656, 61629485, 82553665, 100272607, 100286401]\n",
    "chr_shortNames = [\"chr1\",\"chr2\",\"chr3\",\"chr4\",\"chr5\",\"chr6\",\"chr7\"]\n",
    "\n"
   ]
  },
  {
   "cell_type": "code",
   "execution_count": 24,
   "id": "b5649483-14f4-4ed1-a7ee-4ff8b6419e69",
   "metadata": {},
   "outputs": [
    {
     "name": "stdout",
     "output_type": "stream",
     "text": [
      "[ 192.77487749  173.71587159  191.00830083 ...  241.04640464  235.51835184\n",
      " 3984.97409741]\n"
     ]
    }
   ],
   "source": [
    "\n",
    "df_sldCov = pd.DataFrame({\n",
    "    \"ID\":[],\n",
    "    \"chr\":[],\n",
    "    \"pos\":[],\n",
    "    \"pos_global\":[],\n",
    "    \"cov_sldWinMean\":[]})\n",
    "\n",
    "\n",
    "for i in [0]:#range(len(chr_shortNames)):\n",
    "    \n",
    "    df_pre=pd.read_csv(InPath + InFilename + chr_shortNames[i] + suffix,header=None, delimiter=\"\\t\", index_col=False, na_values=\"na\")\n",
    "    df_pre.columns=[\"chr\",'pos','coverage']\n",
    "\n",
    "    # test some things:\n",
    "    if (df_pre.chr.values[0] == df_pre.chr.values[-1]) & (df_pre.chr.values[0] == chromosomes[i]) & (df_pre.chr.values[-1] == chromosomes_length[i]):\n",
    "        print(df_pre.chr[0])\n",
    "        continue\n",
    "\n",
    "    # for each chromosome, get the positions at which to evaulate the coverage\n",
    "    # always evaluate at the middle of the window \n",
    "    # example, windowSize=10000, evaluate at 5000 from 0 to 10000, at 15000 from 10001 to 20000 etc.\n",
    "    loopNum = round(chromosomes_length[i]/windowSize)\n",
    "    loopPos = np.round(np.arange(windowSize/2, (loopNum)*windowSize + windowSize/2, windowSize))\n",
    "    posHere = df_pre.pos.values\n",
    "    covHere = df_pre.coverage.values\n",
    "\n",
    "    # get the global position by adding the ed point of the prior chromosome to the positions in the next chromosome\n",
    "    if i == 0:\n",
    "        globalPos = loopPos\n",
    "    else:\n",
    "        globalPos = loopPos + chromosomes_end[i-1]\n",
    "        \n",
    "\n",
    "    # initiate the data\n",
    "    cov_sldWinMean = np.zeros(len(loopPos))\n",
    "\n",
    "    # run the loop over all positions but not the last\n",
    "    for j in range(len(loopPos)):\n",
    "        if (loopPos[j] == loopPos[-1]) & (chromosomes_length[i] < (loopPos[j] + windowSize/2)):\n",
    "            print(i)\n",
    "            print(j)\n",
    "            print(\"True\")\n",
    "            lastWinStart = int((loopPos[j]-windowSize/2))\n",
    "            cov_sldWinMean[j] = np.nanmean(covHere[lastWinStart:posHere[-1]])\n",
    "        else:    \n",
    "            maskHere = (posHere > (loopPos[j] - windowSize/2)) & (posHere < (loopPos[j] + windowSize/2))\n",
    "            cov_sldWinMean[j] = np.nanmean(covHere[maskHere])\n",
    "    print(cov_sldWinMean)\n",
    "    \n",
    "    IDs = list(map(str.__add__, np.array(df_pre['chr'].values, dtype=str), np.array(np.array(loopPos, dtype = int), dtype=str)))\n",
    "    df_here = pd.DataFrame({\n",
    "        \"ID\": IDs,\n",
    "        \"chr\": np.transpose(np.repeat(chromosomes[i],len(loopPos))),\n",
    "        \"pos\": loopPos,\n",
    "        \"pos_global\": np.array(globalPos, dtype=int),\n",
    "        \"cov_sldWinMean\": cov_sldWinMean})\n",
    "\n",
    "    df_sldCov = pd.concat([df_sldCov,df_here])\n",
    "    "
   ]
  },
  {
   "cell_type": "code",
   "execution_count": 25,
   "id": "868914d1-5926-4edd-ab25-130628b3196d",
   "metadata": {},
   "outputs": [
    {
     "data": {
      "text/plain": [
       "array([       1,        2,        3, ..., 15072432, 15072433, 15072434])"
      ]
     },
     "execution_count": 25,
     "metadata": {},
     "output_type": "execute_result"
    }
   ],
   "source": [
    "df_sldCov\n",
    "posHere"
   ]
  },
  {
   "cell_type": "code",
   "execution_count": 27,
   "id": "2100343d-33b4-4113-ad95-281140ea30de",
   "metadata": {},
   "outputs": [
    {
     "data": {
      "text/plain": [
       "192.77487748774877"
      ]
     },
     "execution_count": 27,
     "metadata": {},
     "output_type": "execute_result"
    }
   ],
   "source": [
    "np.nanmean(df_pre[\"coverage\"].values[0:9999])"
   ]
  },
  {
   "cell_type": "code",
   "execution_count": null,
   "id": "22add579-935b-4bf6-8931-70c821945dd1",
   "metadata": {},
   "outputs": [],
   "source": [
    "f1, axx = plt.subplots(1, sharex='col', figsize=(14, 10))#, sharex=True)\n",
    "\n",
    "\n",
    "plot = sns.scatterplot(ax=axx, data=df_sldCov, x='pos_global', y=\"cov_sldWinMean\", \n",
    "               hue='chr', palette = 'colorblind', legend=None) \n"
   ]
  },
  {
   "cell_type": "code",
   "execution_count": null,
   "id": "cd8de32e-e4cb-41c1-853c-f8febf8a09f3",
   "metadata": {},
   "outputs": [],
   "source": [
    "### save the data:\n",
    "df_sldCov.to_pickle(outPath + InFilename + \"_covSliWindow.pkl\")\n",
    "df_shiftRaw.to_csv(outPath + InFilename + \"_covSliWindow.csv\", index=False)\n"
   ]
  }
 ],
 "metadata": {
  "kernelspec": {
   "display_name": "Python 3 (ipykernel)",
   "language": "python",
   "name": "python3"
  },
  "language_info": {
   "codemirror_mode": {
    "name": "ipython",
    "version": 3
   },
   "file_extension": ".py",
   "mimetype": "text/x-python",
   "name": "python",
   "nbconvert_exporter": "python",
   "pygments_lexer": "ipython3",
   "version": "3.10.12"
  }
 },
 "nbformat": 4,
 "nbformat_minor": 5
}
